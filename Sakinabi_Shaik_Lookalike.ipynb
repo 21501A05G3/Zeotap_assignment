{
  "nbformat": 4,
  "nbformat_minor": 0,
  "metadata": {
    "colab": {
      "provenance": []
    },
    "kernelspec": {
      "name": "python3",
      "display_name": "Python 3"
    },
    "language_info": {
      "name": "python"
    }
  },
  "cells": [
    {
      "cell_type": "code",
      "execution_count": 5,
      "metadata": {
        "id": "sukgutAtZ-7s"
      },
      "outputs": [],
      "source": [
        "import pandas as pd\n",
        "import numpy as np\n",
        "from sklearn.preprocessing import StandardScaler\n",
        "from sklearn.metrics.pairwise import cosine_similarity"
      ]
    },
    {
      "cell_type": "code",
      "source": [
        "customers = pd.read_csv(\"/content/drive/MyDrive/Customers.csv\")\n",
        "products = pd.read_csv(\"/content/drive/MyDrive/Products.csv\")\n",
        "transactions = pd.read_csv(\"/content/drive/MyDrive/Transactions.csv\")"
      ],
      "metadata": {
        "id": "w_X1sG_gUXZd"
      },
      "execution_count": 6,
      "outputs": []
    },
    {
      "cell_type": "code",
      "source": [
        "# Step 1: Data Merging and Feature Engineering\n",
        "def prepare_data():\n",
        "    # Merge transactions with customer and product data\n",
        "    combined = pd.merge(transactions, customers, on='CustomerID', how='left')\n",
        "    combined = pd.merge(combined, products, on='ProductID', how='left')\n",
        "\n",
        "    # Feature engineering: Customer total spend, avg spend, purchase frequency, etc.\n",
        "    customer_features = combined.groupby('CustomerID').agg({\n",
        "        'TotalValue': ['sum', 'mean'],\n",
        "        'TransactionID': 'count',\n",
        "        'Category': lambda x: x.value_counts().idxmax(),  # Most purchased category\n",
        "        'Region': 'first'  # Region as a categorical feature\n",
        "    }).reset_index()\n",
        "    customer_features.columns = ['CustomerID', 'TotalSpend', 'AvgSpend', 'PurchaseFrequency', 'TopCategory', 'Region']\n",
        "\n",
        "    # Encode categorical features (e.g., Region, TopCategory)\n",
        "    customer_features = pd.get_dummies(customer_features, columns=['TopCategory', 'Region'], drop_first=True)\n",
        "\n",
        "    return customer_features"
      ],
      "metadata": {
        "id": "6vInAjjElA_W"
      },
      "execution_count": 16,
      "outputs": []
    },
    {
      "cell_type": "code",
      "source": [
        "# Step 2: Calculate Similarity Scores\n",
        "def calculate_similarity(features):\n",
        "    # Normalize numerical features\n",
        "    scaler = StandardScaler()\n",
        "    feature_matrix = scaler.fit_transform(features.drop(columns=['CustomerID']))\n",
        "\n",
        "    # Compute cosine similarity\n",
        "    similarity_matrix = cosine_similarity(feature_matrix)\n",
        "    similarity_df = pd.DataFrame(similarity_matrix, index=features['CustomerID'], columns=features['CustomerID'])\n",
        "\n",
        "    return similarity_df"
      ],
      "metadata": {
        "id": "TUjbrHcTlBO5"
      },
      "execution_count": 17,
      "outputs": []
    },
    {
      "cell_type": "code",
      "source": [
        "# Step 3: Recommend Lookalikes\n",
        "def recommend_lookalikes(similarity_df, customer_ids, top_n=3):\n",
        "    recommendations = {}\n",
        "    for cust_id in customer_ids:\n",
        "        # Sort similarity scores for the customer\n",
        "        similar_customers = similarity_df.loc[cust_id].sort_values(ascending=False)\n",
        "        # Exclude the customer itself (similarity score = 1)\n",
        "        similar_customers = similar_customers[similar_customers.index != cust_id]\n",
        "        # Get top N similar customers\n",
        "        top_similar = similar_customers.head(top_n)\n",
        "        recommendations[cust_id] = [{\"cust_id\": lookalike_id, \"score\": round(score, 4)} for lookalike_id, score in top_similar.items()]\n",
        "\n",
        "    return recommendations"
      ],
      "metadata": {
        "id": "EXU5s_ntlBZV"
      },
      "execution_count": 18,
      "outputs": []
    },
    {
      "cell_type": "code",
      "source": [
        "# Step 4: Export Lookalike Map to CSV\n",
        "def save_lookalikes(recommendations, output_file=\"Lookalike.csv\"):\n",
        "    # Convert recommendations to a single map structure for CSV\n",
        "    lookalike_map = []\n",
        "    for cust_id, lookalikes in recommendations.items():\n",
        "        lookalike_map.append({\"cust_id\": cust_id, \"lookalikes\": lookalikes})\n",
        "\n",
        "    # Save as a JSON-like structure in a CSV\n",
        "    lookalike_df = pd.DataFrame(lookalike_map)\n",
        "    lookalike_df.to_csv(output_file, index=False)"
      ],
      "metadata": {
        "id": "o3aNjq9VlBmX"
      },
      "execution_count": 19,
      "outputs": []
    },
    {
      "cell_type": "code",
      "source": [
        "# Main Function\n",
        "def main():\n",
        "    # Prepare the data\n",
        "    customer_features = prepare_data()\n",
        "\n",
        "    # Calculate similarity scores\n",
        "    similarity_df = calculate_similarity(customer_features)\n",
        "\n",
        "    # Recommend lookalikes for the first 20 customers (C0001 - C0020)\n",
        "    customer_ids = customers['CustomerID'][:20].tolist()\n",
        "    recommendations = recommend_lookalikes(similarity_df, customer_ids)\n",
        "\n",
        "    # Save recommendations to CSV\n",
        "    save_lookalikes(recommendations)\n",
        "\n",
        "    print(\"Lookalike recommendations saved to Lookalike.csv.\")\n",
        "\n",
        "if __name__ == \"__main__\":\n",
        "    main()"
      ],
      "metadata": {
        "colab": {
          "base_uri": "https://localhost:8080/"
        },
        "id": "Y2ayHqBwlZIf",
        "outputId": "26f8a29e-5116-4732-a007-1d3e61e1c95e"
      },
      "execution_count": 20,
      "outputs": [
        {
          "output_type": "stream",
          "name": "stdout",
          "text": [
            "Lookalike recommendations saved to Lookalike.csv.\n"
          ]
        }
      ]
    }
  ]
}