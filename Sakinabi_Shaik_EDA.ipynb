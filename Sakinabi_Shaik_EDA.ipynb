# Importing necessary libraries
import pandas as pd
import numpy as np
import matplotlib.pyplot as plt
import seaborn as sns

# Load the datasets
customers = pd.read_csv("Customers.csv")
products = pd.read_csv("Products.csv")
transactions = pd.read_csv("Transactions.csv")

# Display basic information about the datasets
def overview():
    print("Customers Dataset Overview:")
    print(customers.info())
    print(customers.head(), "\n")

    print("Products Dataset Overview:")
    print(products.info())
    print(products.head(), "\n")

    print("Transactions Dataset Overview:")
    print(transactions.info())
    print(transactions.head(), "\n")

# Data Cleaning
def data_cleaning():
    # Check for missing values
    print("Missing Values in Customers:")
    print(customers.isnull().sum())

    print("Missing Values in Products:")
    print(products.isnull().sum())

    print("Missing Values in Transactions:")
    print(transactions.isnull().sum())

    # Convert date columns to datetime
    customers['SignupDate'] = pd.to_datetime(customers['SignupDate'])
    transactions['TransactionDate'] = pd.to_datetime(transactions['TransactionDate'])

    print("\nDate fields converted.")

# Exploratory Data Analysis (EDA)
def eda():
    # Customer analysis
    print("Customer Region Distribution:")
    print(customers['Region'].value_counts())
    customers['Region'].value_counts().plot(kind='bar', title='Customer Distribution by Region')
    plt.show()

    # Product analysis
    print("Product Category Distribution:")
    print(products['Category'].value_counts())
    products['Category'].value_counts().plot(kind='bar', title='Product Distribution by Category')
    plt.show()

    print("Price Distribution:")
    sns.histplot(products['Price'], bins=20, kde=True)
    plt.title('Product Price Distribution')
    plt.show()

    # Transaction analysis
    print("Transaction Trends Over Time:")
    transactions['TransactionDate'].dt.to_period('M').value_counts().sort_index().plot(kind='line', title='Monthly Transaction Trends')
    plt.show()

    print("Top Products by Quantity Sold:")
    top_products = transactions.groupby('ProductID')['Quantity'].sum().sort_values(ascending=False).head(10)
    print(top_products)
    top_products.plot(kind='bar', title='Top 10 Products by Quantity Sold')
    plt.show()

# Merging datasets for combined analysis
def combined_analysis():
    combined = pd.merge(transactions, customers, on='CustomerID', how='left')
    combined = pd.merge(combined, products, on='ProductID', how='left')

    print("Revenue by Region:")
    revenue_region = combined.groupby('Region')['TotalValue'].sum().sort_values(ascending=False)
    print(revenue_region)
    revenue_region.plot(kind='bar', title='Revenue by Region')
    plt.show()

    print("Revenue by Category:")
    revenue_category = combined.groupby('Category')['TotalValue'].sum().sort_values(ascending=False)
    print(revenue_category)
    revenue_category.plot(kind='bar', title='Revenue by Product Category')
    plt.show()

# Main function
def main():
    overview()
    data_cleaning()
    eda()
    combined_analysis()

if __name__ == "__main__":
    main()
